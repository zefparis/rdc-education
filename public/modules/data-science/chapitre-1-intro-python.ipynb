{
 "cells": [
  {
   "cell_type": "markdown",
   "metadata": {},
   "source": [
    "# Chapitre 1 : Introduction à Python pour la Data Science\n",
    "\n",
    "## Module Data Science - RDC Education\n",
    "\n",
    "---\n",
    "\n",
    "### 🎯 Objectifs pédagogiques\n",
    "\n",
    "À la fin de ce chapitre, vous serez capable de :\n",
    "- Comprendre ce qu'est Python et pourquoi il est utilisé en Data Science\n",
    "- Manipuler les variables et les types de données de base\n",
    "- Utiliser les structures de contrôle (boucles, conditions)\n",
    "- Créer et utiliser des fonctions simples\n",
    "- Appliquer ces concepts à des exemples concrets du contexte congolais\n",
    "\n",
    "---"
   ]
  },
  {
   "cell_type": "markdown",
   "metadata": {},
   "source": [
    "## 1. Qu'est-ce que Python ?\n",
    "\n",
    "Python est un **langage de programmation** créé en 1991 par Guido van Rossum. Il est :\n",
    "- **Simple à apprendre** : syntaxe claire et lisible\n",
    "- **Puissant** : utilisé par Google, Netflix, NASA\n",
    "- **Polyvalent** : web, data science, intelligence artificielle, automatisation\n",
    "\n",
    "### Pourquoi Python pour la Data Science ?\n",
    "\n",
    "1. **Bibliothèques riches** : Pandas, NumPy, Matplotlib, Scikit-learn\n",
    "2. **Communauté active** : millions de développeurs dans le monde\n",
    "3. **Gratuit et open-source** : accessible à tous\n",
    "4. **Facile à intégrer** : fonctionne avec d'autres outils et langages\n",
    "\n",
    "### Applications en RDC\n",
    "\n",
    "- 📊 **Éducation** : Analyse des résultats scolaires\n",
    "- 🌾 **Agriculture** : Prévision des récoltes\n",
    "- 🏥 **Santé** : Suivi des épidémies\n",
    "- 💰 **Commerce** : Analyse des ventes et des prix"
   ]
  },
  {
   "cell_type": "markdown",
   "metadata": {},
   "source": [
    "## 2. Premiers pas avec Python\n",
    "\n",
    "### 2.1 Afficher du texte avec `print()`"
   ]
  },
  {
   "cell_type": "code",
   "execution_count": null,
   "metadata": {},
   "outputs": [],
   "source": [
    "# Notre premier programme Python\n",
    "print(\"Bienvenue en Data Science !\")\n",
    "print(\"Bonjour depuis Kinshasa, RDC\")"
   ]
  },
  {
   "cell_type": "markdown",
   "metadata": {},
   "source": [
    "### 2.2 Les variables\n",
    "\n",
    "Une **variable** est comme une boîte qui contient une valeur. On peut la nommer et l'utiliser plus tard."
   ]
  },
  {
   "cell_type": "code",
   "execution_count": null,
   "metadata": {},
   "outputs": [],
   "source": [
    "# Créer des variables\n",
    "nom_etudiant = \"Amani\"\n",
    "age = 22\n",
    "ville = \"Lubumbashi\"\n",
    "\n",
    "print(\"Nom:\", nom_etudiant)\n",
    "print(\"Âge:\", age)\n",
    "print(\"Ville:\", ville)"
   ]
  },
  {
   "cell_type": "markdown",
   "metadata": {},
   "source": [
    "### 2.3 Les types de données\n",
    "\n",
    "Python a plusieurs types de données de base :\n",
    "\n",
    "| Type | Description | Exemple |\n",
    "|------|-------------|----------|\n",
    "| `int` | Nombre entier | `25`, `-10`, `1000` |\n",
    "| `float` | Nombre décimal | `3.14`, `19.99`, `-0.5` |\n",
    "| `str` | Texte (chaîne) | `\"Bonjour\"`, `\"RDC\"` |\n",
    "| `bool` | Booléen (Vrai/Faux) | `True`, `False` |"
   ]
  },
  {
   "cell_type": "code",
   "execution_count": null,
   "metadata": {},
   "outputs": [],
   "source": [
    "# Exemples de types\n",
    "nombre_etudiants = 45          # int\n",
    "moyenne_classe = 13.5          # float\n",
    "nom_ecole = \"Lycée Bosangani\" # str\n",
    "est_reussi = True              # bool\n",
    "\n",
    "# Vérifier le type avec type()\n",
    "print(type(nombre_etudiants))\n",
    "print(type(moyenne_classe))\n",
    "print(type(nom_ecole))\n",
    "print(type(est_reussi))"
   ]
  },
  {
   "cell_type": "markdown",
   "metadata": {},
   "source": [
    "## 3. Opérations mathématiques\n",
    "\n",
    "Python peut faire des calculs comme une calculatrice."
   ]
  },
  {
   "cell_type": "code",
   "execution_count": null,
   "metadata": {},
   "outputs": [],
   "source": [
    "# Opérations de base\n",
    "a = 10\n",
    "b = 3\n",
    "\n",
    "print(\"Addition:\", a + b)        # 13\n",
    "print(\"Soustraction:\", a - b)    # 7\n",
    "print(\"Multiplication:\", a * b)  # 30\n",
    "print(\"Division:\", a / b)        # 3.333...\n",
    "print(\"Division entière:\", a // b) # 3\n",
    "print(\"Reste (modulo):\", a % b)  # 1\n",
    "print(\"Puissance:\", a ** b)      # 1000"
   ]
  },
  {
   "cell_type": "markdown",
   "metadata": {},
   "source": [
    "### 📝 Exemple pratique : Calcul de moyenne\n",
    "\n",
    "Calculons la moyenne des notes d'un étudiant congolais."
   ]
  },
  {
   "cell_type": "code",
   "execution_count": null,
   "metadata": {},
   "outputs": [],
   "source": [
    "# Notes d'un étudiant (sur 20)\n",
    "note_maths = 15\n",
    "note_francais = 13\n",
    "note_sciences = 16\n",
    "note_histoire = 14\n",
    "\n",
    "# Calcul de la moyenne\n",
    "moyenne = (note_maths + note_francais + note_sciences + note_histoire) / 4\n",
    "\n",
    "print(\"Moyenne de l'étudiant:\", moyenne)\n",
    "\n",
    "# Vérifier si l'étudiant a réussi (moyenne >= 10)\n",
    "if moyenne >= 10:\n",
    "    print(\"✅ Étudiant admis !\")\n",
    "else:\n",
    "    print(\"❌ Étudiant non admis\")"
   ]
  },
  {
   "cell_type": "markdown",
   "metadata": {},
   "source": [
    "## 4. Les listes\n",
    "\n",
    "Une **liste** permet de stocker plusieurs valeurs dans une seule variable."
   ]
  },
  {
   "cell_type": "code",
   "execution_count": null,
   "metadata": {},
   "outputs": [],
   "source": [
    "# Créer une liste\n",
    "villes_rdc = [\"Kinshasa\", \"Lubumbashi\", \"Goma\", \"Kisangani\", \"Bukavu\"]\n",
    "\n",
    "print(\"Villes:\", villes_rdc)\n",
    "print(\"Première ville:\", villes_rdc[0])  # Index commence à 0\n",
    "print(\"Dernière ville:\", villes_rdc[-1])\n",
    "print(\"Nombre de villes:\", len(villes_rdc))"
   ]
  },
  {
   "cell_type": "code",
   "execution_count": null,
   "metadata": {},
   "outputs": [],
   "source": [
    "# Ajouter un élément\n",
    "villes_rdc.append(\"Matadi\")\n",
    "print(\"Après ajout:\", villes_rdc)\n",
    "\n",
    "# Modifier un élément\n",
    "villes_rdc[0] = \"Kinshasa (capitale)\"\n",
    "print(\"Après modification:\", villes_rdc)"
   ]
  },
  {
   "cell_type": "markdown",
   "metadata": {},
   "source": [
    "### 📝 Exemple pratique : Liste de températures"
   ]
  },
  {
   "cell_type": "code",
   "execution_count": null,
   "metadata": {},
   "outputs": [],
   "source": [
    "# Températures à Kinshasa (en °C) sur une semaine\n",
    "temperatures = [28, 30, 29, 31, 27, 28, 30]\n",
    "\n",
    "# Calculer la température moyenne\n",
    "temperature_moyenne = sum(temperatures) / len(temperatures)\n",
    "print(f\"Température moyenne: {temperature_moyenne:.1f}°C\")\n",
    "\n",
    "# Trouver la température maximale et minimale\n",
    "temp_max = max(temperatures)\n",
    "temp_min = min(temperatures)\n",
    "print(f\"Température maximale: {temp_max}°C\")\n",
    "print(f\"Température minimale: {temp_min}°C\")"
   ]
  },
  {
   "cell_type": "markdown",
   "metadata": {},
   "source": [
    "## 5. Les conditions (if, elif, else)\n",
    "\n",
    "Les conditions permettent de prendre des décisions dans le code."
   ]
  },
  {
   "cell_type": "code",
   "execution_count": null,
   "metadata": {},
   "outputs": [],
   "source": [
    "# Exemple simple\n",
    "note = 14\n",
    "\n",
    "if note >= 16:\n",
    "    print(\"Excellent !\")\n",
    "elif note >= 12:\n",
    "    print(\"Bien\")\n",
    "elif note >= 10:\n",
    "    print(\"Passable\")\n",
    "else:\n",
    "    print(\"Insuffisant\")"
   ]
  },
  {
   "cell_type": "markdown",
   "metadata": {},
   "source": [
    "### 📝 Exemple pratique : Prix du marché\n",
    "\n",
    "Calculons le prix total avec réduction selon la quantité achetée."
   ]
  },
  {
   "cell_type": "code",
   "execution_count": null,
   "metadata": {},
   "outputs": [],
   "source": [
    "# Prix d'un sac de riz (en FC - Francs Congolais)\n",
    "prix_unitaire = 50000\n",
    "quantite = 5\n",
    "\n",
    "# Calcul du prix total\n",
    "prix_total = prix_unitaire * quantite\n",
    "\n",
    "# Application de réduction selon la quantité\n",
    "if quantite >= 10:\n",
    "    reduction = 0.15  # 15% de réduction\n",
    "    print(\"Réduction de 15% appliquée !\")\n",
    "elif quantite >= 5:\n",
    "    reduction = 0.10  # 10% de réduction\n",
    "    print(\"Réduction de 10% appliquée !\")\n",
    "else:\n",
    "    reduction = 0\n",
    "    print(\"Pas de réduction\")\n",
    "\n",
    "prix_final = prix_total * (1 - reduction)\n",
    "print(f\"Prix total: {prix_total:,} FC\")\n",
    "print(f\"Prix final après réduction: {prix_final:,} FC\")\n",
    "print(f\"Économie: {prix_total - prix_final:,} FC\")"
   ]
  },
  {
   "cell_type": "markdown",
   "metadata": {},
   "source": [
    "## 6. Les boucles\n",
    "\n",
    "Les boucles permettent de répéter des actions.\n",
    "\n",
    "### 6.1 Boucle `for`"
   ]
  },
  {
   "cell_type": "code",
   "execution_count": null,
   "metadata": {},
   "outputs": [],
   "source": [
    "# Parcourir une liste\n",
    "provinces = [\"Kinshasa\", \"Kongo Central\", \"Kwilu\", \"Kwango\", \"Mai-Ndombe\"]\n",
    "\n",
    "print(\"Provinces de la RDC:\")\n",
    "for province in provinces:\n",
    "    print(f\"- {province}\")"
   ]
  },
  {
   "cell_type": "code",
   "execution_count": null,
   "metadata": {},
   "outputs": [],
   "source": [
    "# Utiliser range() pour compter\n",
    "print(\"Compte de 1 à 10:\")\n",
    "for i in range(1, 11):\n",
    "    print(i, end=\" \")"
   ]
  },
  {
   "cell_type": "markdown",
   "metadata": {},
   "source": [
    "### 6.2 Boucle `while`"
   ]
  },
  {
   "cell_type": "code",
   "execution_count": null,
   "metadata": {},
   "outputs": [],
   "source": [
    "# Compter jusqu'à ce qu'une condition soit remplie\n",
    "compteur = 1\n",
    "\n",
    "while compteur <= 5:\n",
    "    print(f\"Compteur: {compteur}\")\n",
    "    compteur += 1\n",
    "\n",
    "print(\"Fin de la boucle\")"
   ]
  },
  {
   "cell_type": "markdown",
   "metadata": {},
   "source": [
    "### 📝 Exemple pratique : Calcul de production agricole"
   ]
  },
  {
   "cell_type": "code",
   "execution_count": null,
   "metadata": {},
   "outputs": [],
   "source": [
    "# Production de manioc par champ (en tonnes)\n",
    "productions = [12.5, 15.3, 10.8, 14.2, 13.7, 16.1]\n",
    "\n",
    "print(\"Production par champ:\")\n",
    "total_production = 0\n",
    "\n",
    "for i, production in enumerate(productions, 1):\n",
    "    print(f\"Champ {i}: {production} tonnes\")\n",
    "    total_production += production\n",
    "\n",
    "print(f\"\\nProduction totale: {total_production:.1f} tonnes\")\n",
    "print(f\"Production moyenne: {total_production / len(productions):.1f} tonnes\")"
   ]
  },
  {
   "cell_type": "markdown",
   "metadata": {},
   "source": [
    "## 7. Les fonctions\n",
    "\n",
    "Une **fonction** est un bloc de code réutilisable qui effectue une tâche spécifique."
   ]
  },
  {
   "cell_type": "code",
   "execution_count": null,
   "metadata": {},
   "outputs": [],
   "source": [
    "# Définir une fonction simple\n",
    "def saluer(nom):\n",
    "    \"\"\"Affiche un message de salutation\"\"\"\n",
    "    print(f\"Bonjour {nom} !\")\n",
    "\n",
    "# Utiliser la fonction\n",
    "saluer(\"Amani\")\n",
    "saluer(\"Grace\")\n",
    "saluer(\"Patrick\")"
   ]
  },
  {
   "cell_type": "code",
   "execution_count": null,
   "metadata": {},
   "outputs": [],
   "source": [
    "# Fonction avec retour de valeur\n",
    "def calculer_moyenne(notes):\n",
    "    \"\"\"Calcule la moyenne d'une liste de notes\"\"\"\n",
    "    if len(notes) == 0:\n",
    "        return 0\n",
    "    return sum(notes) / len(notes)\n",
    "\n",
    "# Utilisation\n",
    "notes_etudiant1 = [14, 15, 13, 16]\n",
    "notes_etudiant2 = [10, 12, 11, 13]\n",
    "\n",
    "moyenne1 = calculer_moyenne(notes_etudiant1)\n",
    "moyenne2 = calculer_moyenne(notes_etudiant2)\n",
    "\n",
    "print(f\"Moyenne étudiant 1: {moyenne1:.1f}\")\n",
    "print(f\"Moyenne étudiant 2: {moyenne2:.1f}\")"
   ]
  },
  {
   "cell_type": "markdown",
   "metadata": {},
   "source": [
    "### 📝 Exemple pratique : Conversion de devises"
   ]
  },
  {
   "cell_type": "code",
   "execution_count": null,
   "metadata": {},
   "outputs": [],
   "source": [
    "def convertir_fc_vers_usd(montant_fc, taux_change=2500):\n",
    "    \"\"\"Convertit des Francs Congolais en Dollars US\n",
    "    \n",
    "    Args:\n",
    "        montant_fc: Montant en FC\n",
    "        taux_change: Taux de change FC/USD (défaut: 2500)\n",
    "    \n",
    "    Returns:\n",
    "        Montant en USD\n",
    "    \"\"\"\n",
    "    return montant_fc / taux_change\n",
    "\n",
    "def convertir_usd_vers_fc(montant_usd, taux_change=2500):\n",
    "    \"\"\"Convertit des Dollars US en Francs Congolais\"\"\"\n",
    "    return montant_usd * taux_change\n",
    "\n",
    "# Exemples d'utilisation\n",
    "montant_fc = 100000\n",
    "montant_usd = convertir_fc_vers_usd(montant_fc)\n",
    "print(f\"{montant_fc:,} FC = ${montant_usd:.2f} USD\")\n",
    "\n",
    "montant_usd = 50\n",
    "montant_fc = convertir_usd_vers_fc(montant_usd)\n",
    "print(f\"${montant_usd} USD = {montant_fc:,} FC\")"
   ]
  },
  {
   "cell_type": "markdown",
   "metadata": {},
   "source": [
    "---\n",
    "\n",
    "## 🎓 Exercices pratiques\n",
    "\n",
    "Maintenant, c'est à vous de pratiquer ! Essayez de résoudre ces exercices."
   ]
  },
  {
   "cell_type": "markdown",
   "metadata": {},
   "source": [
    "### Exercice 1 : Informations personnelles\n",
    "\n",
    "Créez des variables pour stocker votre nom, âge, ville et université. Affichez ensuite ces informations dans une phrase complète."
   ]
  },
  {
   "cell_type": "code",
   "execution_count": null,
   "metadata": {},
   "outputs": [],
   "source": [
    "# Écrivez votre code ici\n",
    "\n"
   ]
  },
  {
   "cell_type": "markdown",
   "metadata": {},
   "source": [
    "### Exercice 2 : Calcul de TVA\n",
    "\n",
    "Créez un programme qui calcule le prix TTC (toutes taxes comprises) d'un produit.\n",
    "- Prix HT (hors taxe) : 25000 FC\n",
    "- Taux de TVA : 16%\n",
    "- Calculez et affichez le prix TTC"
   ]
  },
  {
   "cell_type": "code",
   "execution_count": null,
   "metadata": {},
   "outputs": [],
   "source": [
    "# Écrivez votre code ici\n",
    "\n"
   ]
  },
  {
   "cell_type": "markdown",
   "metadata": {},
   "source": [
    "### Exercice 3 : Analyse de notes\n",
    "\n",
    "Vous avez les notes de 5 étudiants : `[12, 15, 8, 14, 11]`\n",
    "\n",
    "Calculez :\n",
    "1. La moyenne de la classe\n",
    "2. La note maximale\n",
    "3. La note minimale\n",
    "4. Le nombre d'étudiants ayant réussi (note >= 10)"
   ]
  },
  {
   "cell_type": "code",
   "execution_count": null,
   "metadata": {},
   "outputs": [],
   "source": [
    "# Écrivez votre code ici\n",
    "notes = [12, 15, 8, 14, 11]\n",
    "\n"
   ]
  },
  {
   "cell_type": "markdown",
   "metadata": {},
   "source": [
    "### Exercice 4 : Catégorisation de température\n",
    "\n",
    "Créez un programme qui classe une température selon ces critères :\n",
    "- Moins de 20°C : \"Frais\"\n",
    "- 20-25°C : \"Agréable\"\n",
    "- 26-30°C : \"Chaud\"\n",
    "- Plus de 30°C : \"Très chaud\"\n",
    "\n",
    "Testez avec plusieurs températures."
   ]
  },
  {
   "cell_type": "code",
   "execution_count": null,
   "metadata": {},
   "outputs": [],
   "source": [
    "# Écrivez votre code ici\n",
    "\n"
   ]
  },
  {
   "cell_type": "markdown",
   "metadata": {},
   "source": [
    "### Exercice 5 : Table de multiplication\n",
    "\n",
    "Créez un programme qui affiche la table de multiplication d'un nombre donné (par exemple 7).\n",
    "\n",
    "Exemple de sortie :\n",
    "```\n",
    "7 x 1 = 7\n",
    "7 x 2 = 14\n",
    "...\n",
    "7 x 10 = 70\n",
    "```"
   ]
  },
  {
   "cell_type": "code",
   "execution_count": null,
   "metadata": {},
   "outputs": [],
   "source": [
    "# Écrivez votre code ici\n",
    "\n"
   ]
  },
  {
   "cell_type": "markdown",
   "metadata": {},
   "source": [
    "### Exercice 6 : Fonction de calcul d'IMC\n",
    "\n",
    "Créez une fonction `calculer_imc(poids, taille)` qui :\n",
    "1. Calcule l'IMC (Indice de Masse Corporelle) : IMC = poids / (taille²)\n",
    "2. Retourne l'IMC et une catégorie :\n",
    "   - IMC < 18.5 : \"Sous-poids\"\n",
    "   - 18.5 <= IMC < 25 : \"Normal\"\n",
    "   - 25 <= IMC < 30 : \"Surpoids\"\n",
    "   - IMC >= 30 : \"Obésité\"\n",
    "\n",
    "Testez avec : poids = 70 kg, taille = 1.75 m"
   ]
  },
  {
   "cell_type": "code",
   "execution_count": null,
   "metadata": {},
   "outputs": [],
   "source": [
    "# Écrivez votre code ici\n",
    "\n"
   ]
  },
  {
   "cell_type": "markdown",
   "metadata": {},
   "source": [
    "---\n",
    "\n",
    "## ✅ Solutions des exercices\n",
    "\n",
    "Essayez d'abord de résoudre les exercices par vous-même avant de regarder les solutions !"
   ]
  },
  {
   "cell_type": "markdown",
   "metadata": {},
   "source": [
    "### Solution Exercice 1"
   ]
  },
  {
   "cell_type": "code",
   "execution_count": null,
   "metadata": {},
   "outputs": [],
   "source": [
    "# Solution\n",
    "nom = \"Amani Kabongo\"\n",
    "age = 22\n",
    "ville = \"Kinshasa\"\n",
    "universite = \"Université de Kinshasa\"\n",
    "\n",
    "print(f\"Je m'appelle {nom}, j'ai {age} ans.\")\n",
    "print(f\"J'habite à {ville} et j'étudie à l'{universite}.\")"
   ]
  },
  {
   "cell_type": "markdown",
   "metadata": {},
   "source": [
    "### Solution Exercice 2"
   ]
  },
  {
   "cell_type": "code",
   "execution_count": null,
   "metadata": {},
   "outputs": [],
   "source": [
    "# Solution\n",
    "prix_ht = 25000\n",
    "taux_tva = 0.16\n",
    "\n",
    "montant_tva = prix_ht * taux_tva\n",
    "prix_ttc = prix_ht + montant_tva\n",
    "\n",
    "print(f\"Prix HT: {prix_ht:,} FC\")\n",
    "print(f\"TVA (16%): {montant_tva:,} FC\")\n",
    "print(f\"Prix TTC: {prix_ttc:,} FC\")"
   ]
  },
  {
   "cell_type": "markdown",
   "metadata": {},
   "source": [
    "### Solution Exercice 3"
   ]
  },
  {
   "cell_type": "code",
   "execution_count": null,
   "metadata": {},
   "outputs": [],
   "source": [
    "# Solution\n",
    "notes = [12, 15, 8, 14, 11]\n",
    "\n",
    "# 1. Moyenne\n",
    "moyenne = sum(notes) / len(notes)\n",
    "print(f\"Moyenne de la classe: {moyenne:.1f}\")\n",
    "\n",
    "# 2. Note maximale\n",
    "note_max = max(notes)\n",
    "print(f\"Note maximale: {note_max}\")\n",
    "\n",
    "# 3. Note minimale\n",
    "note_min = min(notes)\n",
    "print(f\"Note minimale: {note_min}\")\n",
    "\n",
    "# 4. Nombre d'étudiants ayant réussi\n",
    "nb_reussis = 0\n",
    "for note in notes:\n",
    "    if note >= 10:\n",
    "        nb_reussis += 1\n",
    "\n",
    "print(f\"Nombre d'étudiants ayant réussi: {nb_reussis}/{len(notes)}\")\n",
    "print(f\"Taux de réussite: {(nb_reussis / len(notes)) * 100:.1f}%\")"
   ]
  },
  {
   "cell_type": "markdown",
   "metadata": {},
   "source": [
    "### Solution Exercice 4"
   ]
  },
  {
   "cell_type": "code",
   "execution_count": null,
   "metadata": {},
   "outputs": [],
   "source": [
    "# Solution\n",
    "def categoriser_temperature(temp):\n",
    "    if temp < 20:\n",
    "        return \"Frais\"\n",
    "    elif temp <= 25:\n",
    "        return \"Agréable\"\n",
    "    elif temp <= 30:\n",
    "        return \"Chaud\"\n",
    "    else:\n",
    "        return \"Très chaud\"\n",
    "\n",
    "# Tests\n",
    "temperatures_test = [18, 23, 28, 32]\n",
    "\n",
    "for temp in temperatures_test:\n",
    "    categorie = categoriser_temperature(temp)\n",
    "    print(f\"{temp}°C : {categorie}\")"
   ]
  },
  {
   "cell_type": "markdown",
   "metadata": {},
   "source": [
    "### Solution Exercice 5"
   ]
  },
  {
   "cell_type": "code",
   "execution_count": null,
   "metadata": {},
   "outputs": [],
   "source": [
    "# Solution\n",
    "nombre = 7\n",
    "\n",
    "print(f\"Table de multiplication de {nombre}:\")\n",
    "print(\"-\" * 30)\n",
    "\n",
    "for i in range(1, 11):\n",
    "    resultat = nombre * i\n",
    "    print(f\"{nombre} x {i:2d} = {resultat:3d}\")"
   ]
  },
  {
   "cell_type": "markdown",
   "metadata": {},
   "source": [
    "### Solution Exercice 6"
   ]
  },
  {
   "cell_type": "code",
   "execution_count": null,
   "metadata": {},
   "outputs": [],
   "source": [
    "# Solution\n",
    "def calculer_imc(poids, taille):\n",
    "    \"\"\"Calcule l'IMC et retourne la catégorie\n",
    "    \n",
    "    Args:\n",
    "        poids: Poids en kg\n",
    "        taille: Taille en mètres\n",
    "    \n",
    "    Returns:\n",
    "        Tuple (IMC, catégorie)\n",
    "    \"\"\"\n",
    "    imc = poids / (taille ** 2)\n",
    "    \n",
    "    if imc < 18.5:\n",
    "        categorie = \"Sous-poids\"\n",
    "    elif imc < 25:\n",
    "        categorie = \"Normal\"\n",
    "    elif imc < 30:\n",
    "        categorie = \"Surpoids\"\n",
    "    else:\n",
    "        categorie = \"Obésité\"\n",
    "    \n",
    "    return imc, categorie\n",
    "\n",
    "# Test\n",
    "poids = 70\n",
    "taille = 1.75\n",
    "\n",
    "imc, categorie = calculer_imc(poids, taille)\n",
    "print(f\"Poids: {poids} kg\")\n",
    "print(f\"Taille: {taille} m\")\n",
    "print(f\"IMC: {imc:.1f}\")\n",
    "print(f\"Catégorie: {categorie}\")"
   ]
  },
  {
   "cell_type": "markdown",
   "metadata": {},
   "source": [
    "---\n",
    "\n",
    "## 🎯 Résumé du chapitre\n",
    "\n",
    "### Ce que vous avez appris :\n",
    "\n",
    "1. **Python** est un langage simple et puissant pour la Data Science\n",
    "2. **Variables** : stockent des données (nombres, texte, etc.)\n",
    "3. **Types de données** : `int`, `float`, `str`, `bool`, `list`\n",
    "4. **Opérations** : calculs mathématiques et manipulations\n",
    "5. **Conditions** : `if`, `elif`, `else` pour prendre des décisions\n",
    "6. **Boucles** : `for` et `while` pour répéter des actions\n",
    "7. **Fonctions** : blocs de code réutilisables\n",
    "\n",
    "### Prochaines étapes :\n",
    "\n",
    "Dans le **Chapitre 2**, nous découvrirons :\n",
    "- 📊 **Pandas** : manipulation de données tabulaires\n",
    "- 📈 **Visualisation** : créer des graphiques\n",
    "- 🔢 **NumPy** : calculs numériques avancés\n",
    "\n",
    "---\n",
    "\n",
    "## 📚 Ressources supplémentaires\n",
    "\n",
    "- [Documentation Python officielle](https://docs.python.org/fr/3/)\n",
    "- [Python pour débutants](https://www.python.org/about/gettingstarted/)\n",
    "- [Exercices Python](https://www.w3schools.com/python/)\n",
    "\n",
    "---\n",
    "\n",
    "**Félicitations ! Vous avez terminé le Chapitre 1 ! 🎉**\n",
    "\n",
    "*Continuez à pratiquer et à explorer Python. La pratique régulière est la clé du succès !*"
   ]
  }
 ],
 "metadata": {
  "kernelspec": {
   "display_name": "Python 3",
   "language": "python",
   "name": "python3"
  },
  "language_info": {
   "codemirror_mode": {
    "name": "ipython",
    "version": 3
   },
   "file_extension": ".py",
   "mimetype": "text/x-python",
   "name": "python",
   "nbconvert_exporter": "python",
   "pygments_lexer": "ipython3",
   "version": "3.8.0"
  }
 },
 "nbformat": 4,
 "nbformat_minor": 4
}
