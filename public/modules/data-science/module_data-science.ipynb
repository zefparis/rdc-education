{
 "cells": [
  {
   "cell_type": "markdown",
   "metadata": {},
   "source": [
    "# Module Data Science - Formation Complète\n",
    "\n",
    "## Plateforme IA-Solution RDC\n",
    "\n",
    "**Niveau :** Débutant  \n",
    "**Durée :** 6 semaines  \n",
    "**Prérequis :** Aucun\n",
    "\n",
    "---\n",
    "\n",
    "### 🎯 Objectifs\n",
    "\n",
    "- Maîtriser Python pour la Data Science\n",
    "- Manipuler des données avec Pandas\n",
    "- Visualiser avec Matplotlib et Seaborn\n",
    "- Comprendre les statistiques descriptives\n",
    "- Préparer des données pour le Machine Learning"
   ]
  },
  {
   "cell_type": "code",
   "execution_count": null,
   "metadata": {},
   "outputs": [],
   "source": [
    "# Installation des bibliothèques\n",
    "!pip install numpy pandas matplotlib seaborn scikit-learn -q\n",
    "\n",
    "print(\"✅ Bibliothèques installées !\")"
   ]
  },
  {
   "cell_type": "code",
   "execution_count": null,
   "metadata": {},
   "outputs": [],
   "source": [
    "# Imports\n",
    "import numpy as np\n",
    "import pandas as pd\n",
    "import matplotlib.pyplot as plt\n",
    "import seaborn as sns\n",
    "\n",
    "# Configuration\n",
    "plt.style.use('seaborn-v0_8')\n",
    "sns.set_palette(\"husl\")\n",
    "\n",
    "print(\"✅ Imports terminés !\")"
   ]
  },
  {
   "cell_type": "markdown",
   "metadata": {},
   "source": [
    "---\n",
    "\n",
    "# Chapitre 1 : Python de base\n",
    "\n",
    "## 1.1 Variables et types"
   ]
  },
  {
   "cell_type": "code",
   "execution_count": null,
   "metadata": {},
   "outputs": [],
   "source": [
    "# Variables\n",
    "nom = \"Jean\"\n",
    "age = 25\n",
    "taille = 1.75\n",
    "etudiant = True\n",
    "\n",
    "print(f\"Nom: {nom}, Type: {type(nom)}\")\n",
    "print(f\"Age: {age}, Type: {type(age)}\")\n",
    "print(f\"Taille: {taille}, Type: {type(taille)}\")\n",
    "print(f\"Étudiant: {etudiant}, Type: {type(etudiant)}\")"
   ]
  },
  {
   "cell_type": "markdown",
   "metadata": {},
   "source": [
    "## 1.2 Listes"
   ]
  },
  {
   "cell_type": "code",
   "execution_count": null,
   "metadata": {},
   "outputs": [],
   "source": [
    "# Listes\n",
    "villes = [\"Kinshasa\", \"Lubumbashi\", \"Goma\", \"Kisangani\"]\n",
    "temperatures = [28, 25, 22, 27]\n",
    "\n",
    "print(\"Villes:\", villes)\n",
    "print(\"Première ville:\", villes[0])\n",
    "print(\"Dernière ville:\", villes[-1])\n",
    "print(\"Nombre de villes:\", len(villes))"
   ]
  },
  {
   "cell_type": "markdown",
   "metadata": {},
   "source": [
    "## 1.3 Boucles"
   ]
  },
  {
   "cell_type": "code",
   "execution_count": null,
   "metadata": {},
   "outputs": [],
   "source": [
    "# Boucle for\n",
    "for ville, temp in zip(villes, temperatures):\n",
    "    print(f\"Température à {ville}: {temp}°C\")"
   ]
  },
  {
   "cell_type": "markdown",
   "metadata": {},
   "source": [
    "## 1.4 Fonctions"
   ]
  },
  {
   "cell_type": "code",
   "execution_count": null,
   "metadata": {},
   "outputs": [],
   "source": [
    "# Fonction\n",
    "def calculer_moyenne(notes):\n",
    "    \"\"\"Calcule la moyenne d'une liste de notes\"\"\"\n",
    "    return sum(notes) / len(notes)\n",
    "\n",
    "notes = [15, 12, 18, 14, 16]\n",
    "moyenne = calculer_moyenne(notes)\n",
    "print(f\"Moyenne: {moyenne:.2f}/20\")"
   ]
  },
  {
   "cell_type": "markdown",
   "metadata": {},
   "source": [
    "### 🎯 Exercice 1 : Python de base\n",
    "\n",
    "Créez une fonction qui calcule le prix total avec réduction :\n",
    "- Prix unitaire : 1000 FC\n",
    "- Quantité : variable\n",
    "- Réduction : 10% si quantité > 5"
   ]
  },
  {
   "cell_type": "code",
   "execution_count": null,
   "metadata": {},
   "outputs": [],
   "source": [
    "# Exercice 1 : À vous de jouer !\n",
    "\n",
    "def calculer_prix_total(quantite, prix_unitaire=1000):\n",
    "    # TODO: Implémenter la fonction\n",
    "    pass\n",
    "\n",
    "# Test\n",
    "# print(calculer_prix_total(3))   # 3000 FC\n",
    "# print(calculer_prix_total(10))  # 9000 FC (avec réduction)"
   ]
  },
  {
   "cell_type": "code",
   "execution_count": null,
   "metadata": {},
   "outputs": [],
   "source": [
    "# Solution Exercice 1\n",
    "\n",
    "def calculer_prix_total(quantite, prix_unitaire=1000):\n",
    "    \"\"\"Calcule le prix total avec réduction si quantité > 5\"\"\"\n",
    "    total = quantite * prix_unitaire\n",
    "    \n",
    "    if quantite > 5:\n",
    "        total = total * 0.9  # 10% de réduction\n",
    "    \n",
    "    return total\n",
    "\n",
    "# Tests\n",
    "print(f\"3 articles: {calculer_prix_total(3)} FC\")\n",
    "print(f\"10 articles: {calculer_prix_total(10)} FC\")"
   ]
  },
  {
   "cell_type": "markdown",
   "metadata": {},
   "source": [
    "---\n",
    "\n",
    "# Chapitre 2 : Pandas\n",
    "\n",
    "## 2.1 Créer un DataFrame"
   ]
  },
  {
   "cell_type": "code",
   "execution_count": null,
   "metadata": {},
   "outputs": [],
   "source": [
    "# Créer un DataFrame\n",
    "data = {\n",
    "    'Ville': ['Kinshasa', 'Lubumbashi', 'Goma', 'Kisangani', 'Bukavu'],\n",
    "    'Population': [15000000, 2500000, 1500000, 1300000, 1100000],\n",
    "    'Temperature': [28, 25, 22, 27, 23]\n",
    "}\n",
    "\n",
    "df = pd.DataFrame(data)\n",
    "print(df)"
   ]
  },
  {
   "cell_type": "markdown",
   "metadata": {},
   "source": [
    "## 2.2 Exploration des données"
   ]
  },
  {
   "cell_type": "code",
   "execution_count": null,
   "metadata": {},
   "outputs": [],
   "source": [
    "# Informations sur le DataFrame\n",
    "print(\"Shape:\", df.shape)\n",
    "print(\"\\nColonnes:\", df.columns.tolist())\n",
    "print(\"\\nTypes:\")\n",
    "print(df.dtypes)\n",
    "print(\"\\nPremières lignes:\")\n",
    "print(df.head())"
   ]
  },
  {
   "cell_type": "markdown",
   "metadata": {},
   "source": [
    "## 2.3 Sélection de données"
   ]
  },
  {
   "cell_type": "code",
   "execution_count": null,
   "metadata": {},
   "outputs": [],
   "source": [
    "# Sélectionner une colonne\n",
    "print(\"Villes:\")\n",
    "print(df['Ville'])\n",
    "\n",
    "# Filtrer les données\n",
    "print(\"\\nVilles avec population > 2M:\")\n",
    "print(df[df['Population'] > 2000000])"
   ]
  },
  {
   "cell_type": "markdown",
   "metadata": {},
   "source": [
    "### 🎯 Exercice 2 : Pandas\n",
    "\n",
    "Créez un DataFrame avec des données de ventes :\n",
    "- Produit : Manioc, Maïs, Riz\n",
    "- Prix : 500, 800, 1200 FC\n",
    "- Quantité : 100, 50, 30\n",
    "\n",
    "Calculez le chiffre d'affaires total"
   ]
  },
  {
   "cell_type": "code",
   "execution_count": null,
   "metadata": {},
   "outputs": [],
   "source": [
    "# Exercice 2 : À vous de jouer !\n",
    "\n",
    "# TODO: Créer le DataFrame et calculer le CA\n"
   ]
  },
  {
   "cell_type": "code",
   "execution_count": null,
   "metadata": {},
   "outputs": [],
   "source": [
    "# Solution Exercice 2\n",
    "\n",
    "ventes = pd.DataFrame({\n",
    "    'Produit': ['Manioc', 'Maïs', 'Riz'],\n",
    "    'Prix': [500, 800, 1200],\n",
    "    'Quantite': [100, 50, 30]\n",
    "})\n",
    "\n",
    "ventes['CA'] = ventes['Prix'] * ventes['Quantite']\n",
    "print(ventes)\n",
    "print(f\"\\nCA Total: {ventes['CA'].sum()} FC\")"
   ]
  },
  {
   "cell_type": "markdown",
   "metadata": {},
   "source": [
    "---\n",
    "\n",
    "# Chapitre 3 : Visualisation\n",
    "\n",
    "## 3.1 Graphiques avec Matplotlib"
   ]
  },
  {
   "cell_type": "code",
   "execution_count": null,
   "metadata": {},
   "outputs": [],
   "source": [
    "# Graphique en barres\n",
    "plt.figure(figsize=(10, 6))\n",
    "plt.bar(df['Ville'], df['Population'] / 1000000)\n",
    "plt.xlabel('Ville')\n",
    "plt.ylabel('Population (millions)')\n",
    "plt.title('Population des principales villes de RDC')\n",
    "plt.xticks(rotation=45)\n",
    "plt.tight_layout()\n",
    "plt.show()"
   ]
  },
  {
   "cell_type": "markdown",
   "metadata": {},
   "source": [
    "## 3.2 Graphiques avec Seaborn"
   ]
  },
  {
   "cell_type": "code",
   "execution_count": null,
   "metadata": {},
   "outputs": [],
   "source": [
    "# Scatter plot\n",
    "plt.figure(figsize=(10, 6))\n",
    "sns.scatterplot(data=df, x='Population', y='Temperature', s=200)\n",
    "plt.xlabel('Population')\n",
    "plt.ylabel('Température (°C)')\n",
    "plt.title('Température vs Population')\n",
    "plt.show()"
   ]
  },
  {
   "cell_type": "markdown",
   "metadata": {},
   "source": [
    "### 🎯 Exercice 3 : Visualisation\n",
    "\n",
    "Créez un graphique en ligne montrant l'évolution des ventes par mois"
   ]
  },
  {
   "cell_type": "code",
   "execution_count": null,
   "metadata": {},
   "outputs": [],
   "source": [
    "# Exercice 3 : À vous de jouer !\n",
    "\n",
    "mois = ['Jan', 'Fev', 'Mar', 'Avr', 'Mai', 'Jun']\n",
    "ventes_mois = [1000, 1200, 1500, 1300, 1800, 2000]\n",
    "\n",
    "# TODO: Créer le graphique\n"
   ]
  },
  {
   "cell_type": "code",
   "execution_count": null,
   "metadata": {},
   "outputs": [],
   "source": [
    "# Solution Exercice 3\n",
    "\n",
    "mois = ['Jan', 'Fev', 'Mar', 'Avr', 'Mai', 'Jun']\n",
    "ventes_mois = [1000, 1200, 1500, 1300, 1800, 2000]\n",
    "\n",
    "plt.figure(figsize=(10, 6))\n",
    "plt.plot(mois, ventes_mois, marker='o', linewidth=2, markersize=8)\n",
    "plt.xlabel('Mois')\n",
    "plt.ylabel('Ventes (unités)')\n",
    "plt.title('Évolution des ventes mensuelles')\n",
    "plt.grid(True, alpha=0.3)\n",
    "plt.show()"
   ]
  },
  {
   "cell_type": "markdown",
   "metadata": {},
   "source": [
    "---\n",
    "\n",
    "# Chapitre 4 : Statistiques\n",
    "\n",
    "## 4.1 Statistiques descriptives"
   ]
  },
  {
   "cell_type": "code",
   "execution_count": null,
   "metadata": {},
   "outputs": [],
   "source": [
    "# Statistiques sur le DataFrame\n",
    "print(df.describe())"
   ]
  },
  {
   "cell_type": "markdown",
   "metadata": {},
   "source": [
    "## 4.2 Corrélation"
   ]
  },
  {
   "cell_type": "code",
   "execution_count": null,
   "metadata": {},
   "outputs": [],
   "source": [
    "# Matrice de corrélation\n",
    "correlation = df[['Population', 'Temperature']].corr()\n",
    "print(correlation)\n",
    "\n",
    "# Heatmap\n",
    "plt.figure(figsize=(8, 6))\n",
    "sns.heatmap(correlation, annot=True, cmap='coolwarm', center=0)\n",
    "plt.title('Matrice de corrélation')\n",
    "plt.show()"
   ]
  },
  {
   "cell_type": "markdown",
   "metadata": {},
   "source": [
    "### 🎯 Exercice 4 : Statistiques\n",
    "\n",
    "Calculez la moyenne, médiane et écart-type des notes"
   ]
  },
  {
   "cell_type": "code",
   "execution_count": null,
   "metadata": {},
   "outputs": [],
   "source": [
    "# Exercice 4 : À vous de jouer !\n",
    "\n",
    "notes = [12, 15, 18, 10, 14, 16, 13, 17, 11, 15]\n",
    "\n",
    "# TODO: Calculer les statistiques\n"
   ]
  },
  {
   "cell_type": "code",
   "execution_count": null,
   "metadata": {},
   "outputs": [],
   "source": [
    "# Solution Exercice 4\n",
    "\n",
    "notes = [12, 15, 18, 10, 14, 16, 13, 17, 11, 15]\n",
    "\n",
    "moyenne = np.mean(notes)\n",
    "mediane = np.median(notes)\n",
    "ecart_type = np.std(notes)\n",
    "\n",
    "print(f\"Moyenne: {moyenne:.2f}\")\n",
    "print(f\"Médiane: {mediane:.2f}\")\n",
    "print(f\"Écart-type: {ecart_type:.2f}\")"
   ]
  },
  {
   "cell_type": "markdown",
   "metadata": {},
   "source": [
    "### 🎯 Exercice 5 : Projet complet\n",
    "\n",
    "Analysez les données de production agricole en RDC"
   ]
  },
  {
   "cell_type": "code",
   "execution_count": null,
   "metadata": {},
   "outputs": [],
   "source": [
    "# Exercice 5 : Projet complet\n",
    "\n",
    "# Données de production (tonnes)\n",
    "production = pd.DataFrame({\n",
    "    'Province': ['Kinshasa', 'Bas-Congo', 'Bandundu', 'Équateur', 'Kasai'],\n",
    "    'Manioc': [50000, 80000, 120000, 100000, 90000],\n",
    "    'Maïs': [30000, 40000, 60000, 50000, 45000],\n",
    "    'Riz': [10000, 15000, 20000, 18000, 12000]\n",
    "})\n",
    "\n",
    "# TODO:\n",
    "# 1. Afficher les statistiques\n",
    "# 2. Calculer la production totale par province\n",
    "# 3. Créer un graphique en barres empilées\n",
    "# 4. Identifier la province la plus productive\n"
   ]
  },
  {
   "cell_type": "code",
   "execution_count": null,
   "metadata": {},
   "outputs": [],
   "source": [
    "# Solution Exercice 5\n",
    "\n",
    "production = pd.DataFrame({\n",
    "    'Province': ['Kinshasa', 'Bas-Congo', 'Bandundu', 'Équateur', 'Kasai'],\n",
    "    'Manioc': [50000, 80000, 120000, 100000, 90000],\n",
    "    'Maïs': [30000, 40000, 60000, 50000, 45000],\n",
    "    'Riz': [10000, 15000, 20000, 18000, 12000]\n",
    "})\n",
    "\n",
    "# 1. Statistiques\n",
    "print(\"Statistiques de production:\")\n",
    "print(production.describe())\n",
    "\n",
    "# 2. Production totale\n",
    "production['Total'] = production[['Manioc', 'Maïs', 'Riz']].sum(axis=1)\n",
    "print(\"\\nProduction totale par province:\")\n",
    "print(production[['Province', 'Total']])\n",
    "\n",
    "# 3. Graphique\n",
    "plt.figure(figsize=(12, 6))\n",
    "production.set_index('Province')[['Manioc', 'Maïs', 'Riz']].plot(kind='bar', stacked=True)\n",
    "plt.xlabel('Province')\n",
    "plt.ylabel('Production (tonnes)')\n",
    "plt.title('Production agricole par province')\n",
    "plt.legend(title='Culture')\n",
    "plt.xticks(rotation=45)\n",
    "plt.tight_layout()\n",
    "plt.show()\n",
    "\n",
    "# 4. Province la plus productive\n",
    "max_prod = production.loc[production['Total'].idxmax()]\n",
    "print(f\"\\nProvince la plus productive: {max_prod['Province']} ({max_prod['Total']} tonnes)\")"
   ]
  },
  {
   "cell_type": "markdown",
   "metadata": {},
   "source": [
    "---\n",
    "\n",
    "## 🎓 Résumé\n",
    "\n",
    "### Compétences acquises\n",
    "\n",
    "- ✅ Python de base\n",
    "- ✅ Manipulation de données (Pandas)\n",
    "- ✅ Visualisation (Matplotlib, Seaborn)\n",
    "- ✅ Statistiques descriptives\n",
    "- ✅ Analyse de données réelles\n",
    "\n",
    "**Félicitations ! Module Data Science terminé ! 🎉**"
   ]
  }
 ],
 "metadata": {
  "kernelspec": {
   "display_name": "Python 3",
   "language": "python",
   "name": "python3"
  },
  "language_info": {
   "name": "python",
   "version": "3.8.0"
  }
 },
 "nbformat": 4,
 "nbformat_minor": 4
}
