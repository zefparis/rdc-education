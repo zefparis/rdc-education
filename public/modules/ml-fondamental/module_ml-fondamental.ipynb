{
 "cells": [
  {
   "cell_type": "markdown",
   "metadata": {},
   "source": [
    "# Module Machine Learning Fondamental\n",
    "\n",
    "## Plateforme IA-Solution RDC\n",
    "\n",
    "**Niveau :** Débutant/Intermédiaire  \n",
    "**Durée :** 6 semaines  \n",
    "**Prérequis :** Python, bases de mathématiques\n",
    "\n",
    "---\n",
    "\n",
    "### 🎯 Objectifs\n",
    "\n",
    "- Comprendre le Machine Learning\n",
    "- Maîtriser les algorithmes fondamentaux\n",
    "- Entraîner et valider des modèles\n",
    "- Appliquer le ML à des cas RDC"
   ]
  },
  {
   "cell_type": "code",
   "execution_count": null,
   "metadata": {},
   "outputs": [],
   "source": [
    "# Installation\n",
    "!pip install scikit-learn pandas numpy matplotlib seaborn -q\n",
    "\n",
    "print(\"✅ Bibliothèques installées !\")"
   ]
  },
  {
   "cell_type": "code",
   "execution_count": null,
   "metadata": {},
   "outputs": [],
   "source": [
    "# Imports\n",
    "import numpy as np\n",
    "import pandas as pd\n",
    "import matplotlib.pyplot as plt\n",
    "import seaborn as sns\n",
    "\n",
    "from sklearn.model_selection import train_test_split, cross_val_score\n",
    "from sklearn.preprocessing import StandardScaler\n",
    "from sklearn.linear_model import LinearRegression, LogisticRegression\n",
    "from sklearn.neighbors import KNeighborsClassifier\n",
    "from sklearn.tree import DecisionTreeClassifier\n",
    "from sklearn.cluster import KMeans\n",
    "from sklearn.metrics import accuracy_score, mean_squared_error, r2_score\n",
    "\n",
    "np.random.seed(42)\n",
    "print(\"✅ Imports terminés !\")"
   ]
  },
  {
   "cell_type": "markdown",
   "metadata": {},
   "source": [
    "---\n",
    "\n",
    "# Chapitre 1 : Introduction au ML\n",
    "\n",
    "## 1.1 Qu'est-ce que le Machine Learning ?\n",
    "\n",
    "Le **Machine Learning** permet aux ordinateurs d'apprendre à partir de données sans être explicitement programmés.\n",
    "\n",
    "### Types d'apprentissage\n",
    "\n",
    "1. **Supervisé** : Données avec labels (X, y)\n",
    "   - Régression : Prédire valeurs continues\n",
    "   - Classification : Prédire catégories\n",
    "\n",
    "2. **Non supervisé** : Données sans labels (X)\n",
    "   - Clustering : Regrouper données similaires"
   ]
  },
  {
   "cell_type": "code",
   "execution_count": null,
   "metadata": {},
   "outputs": [],
   "source": [
    "# Exemple de données\n",
    "# Prédire le prix du manioc en fonction de la quantité\n",
    "\n",
    "quantite = np.array([10, 20, 30, 40, 50, 60, 70, 80, 90, 100])\n",
    "prix = np.array([5000, 9500, 14000, 18500, 23000, 27500, 32000, 36500, 41000, 45500])\n",
    "\n",
    "plt.figure(figsize=(10, 6))\n",
    "plt.scatter(quantite, prix, s=100)\n",
    "plt.xlabel('Quantité (kg)')\n",
    "plt.ylabel('Prix (FC)')\n",
    "plt.title('Prix du manioc en fonction de la quantité')\n",
    "plt.grid(True, alpha=0.3)\n",
    "plt.show()"
   ]
  },
  {
   "cell_type": "markdown",
   "metadata": {},
   "source": [
    "---\n",
    "\n",
    "# Chapitre 2 : Régression linéaire\n",
    "\n",
    "## 2.1 Principe\n",
    "\n",
    "Trouver la droite qui s'ajuste le mieux aux données : **y = ax + b**"
   ]
  },
  {
   "cell_type": "code",
   "execution_count": null,
   "metadata": {},
   "outputs": [],
   "source": [
    "# Préparer les données\n",
    "X = quantite.reshape(-1, 1)  # Features\n",
    "y = prix  # Target\n",
    "\n",
    "# Split train/test\n",
    "X_train, X_test, y_train, y_test = train_test_split(X, y, test_size=0.2, random_state=42)\n",
    "\n",
    "print(f\"Train: {len(X_train)} exemples\")\n",
    "print(f\"Test: {len(X_test)} exemples\")"
   ]
  },
  {
   "cell_type": "code",
   "execution_count": null,
   "metadata": {},
   "outputs": [],
   "source": [
    "# Entraîner le modèle\n",
    "model = LinearRegression()\n",
    "model.fit(X_train, y_train)\n",
    "\n",
    "print(f\"Coefficient (a): {model.coef_[0]:.2f}\")\n",
    "print(f\"Intercept (b): {model.intercept_:.2f}\")\n",
    "print(f\"\\nÉquation: y = {model.coef_[0]:.2f}x + {model.intercept_:.2f}\")"
   ]
  },
  {
   "cell_type": "code",
   "execution_count": null,
   "metadata": {},
   "outputs": [],
   "source": [
    "# Prédictions\n",
    "y_pred = model.predict(X_test)\n",
    "\n",
    "# Évaluation\n",
    "mse = mean_squared_error(y_test, y_pred)\n",
    "r2 = r2_score(y_test, y_pred)\n",
    "\n",
    "print(f\"MSE: {mse:.2f}\")\n",
    "print(f\"R²: {r2:.3f}\")\n",
    "\n",
    "# Visualisation\n",
    "plt.figure(figsize=(10, 6))\n",
    "plt.scatter(X, y, label='Données réelles', s=100)\n",
    "plt.plot(X, model.predict(X), 'r-', linewidth=2, label='Régression')\n",
    "plt.xlabel('Quantité (kg)')\n",
    "plt.ylabel('Prix (FC)')\n",
    "plt.title('Régression linéaire')\n",
    "plt.legend()\n",
    "plt.grid(True, alpha=0.3)\n",
    "plt.show()"
   ]
  },
  {
   "cell_type": "markdown",
   "metadata": {},
   "source": [
    "### 🎯 Exercice 1 : Régression linéaire\n",
    "\n",
    "Prédire le rendement agricole en fonction de la quantité d'engrais"
   ]
  },
  {
   "cell_type": "code",
   "execution_count": null,
   "metadata": {},
   "outputs": [],
   "source": [
    "# Exercice 1 : À vous de jouer !\n",
    "\n",
    "engrais = np.array([0, 10, 20, 30, 40, 50, 60, 70, 80, 90])\n",
    "rendement = np.array([2, 3.5, 5, 6.2, 7.5, 8.5, 9.2, 9.8, 10.2, 10.5])\n",
    "\n",
    "# TODO:\n",
    "# 1. Créer et entraîner un modèle\n",
    "# 2. Faire des prédictions\n",
    "# 3. Calculer R²\n",
    "# 4. Visualiser\n"
   ]
  },
  {
   "cell_type": "code",
   "execution_count": null,
   "metadata": {},
   "outputs": [],
   "source": [
    "# Solution Exercice 1\n",
    "\n",
    "engrais = np.array([0, 10, 20, 30, 40, 50, 60, 70, 80, 90])\n",
    "rendement = np.array([2, 3.5, 5, 6.2, 7.5, 8.5, 9.2, 9.8, 10.2, 10.5])\n",
    "\n",
    "X = engrais.reshape(-1, 1)\n",
    "y = rendement\n",
    "\n",
    "model_rend = LinearRegression()\n",
    "model_rend.fit(X, y)\n",
    "\n",
    "y_pred = model_rend.predict(X)\n",
    "r2 = r2_score(y, y_pred)\n",
    "\n",
    "print(f\"R²: {r2:.3f}\")\n",
    "\n",
    "plt.figure(figsize=(10, 6))\n",
    "plt.scatter(X, y, s=100, label='Données')\n",
    "plt.plot(X, y_pred, 'r-', linewidth=2, label='Régression')\n",
    "plt.xlabel('Engrais (kg/ha)')\n",
    "plt.ylabel('Rendement (tonnes/ha)')\n",
    "plt.title('Rendement vs Engrais')\n",
    "plt.legend()\n",
    "plt.grid(True, alpha=0.3)\n",
    "plt.show()"
   ]
  },
  {
   "cell_type": "markdown",
   "metadata": {},
   "source": [
    "---\n",
    "\n",
    "# Chapitre 3 : Régression logistique\n",
    "\n",
    "## 3.1 Classification binaire\n",
    "\n",
    "Prédire une catégorie (0 ou 1)"
   ]
  },
  {
   "cell_type": "code",
   "execution_count": null,
   "metadata": {},
   "outputs": [],
   "source": [
    "# Données : Détection du paludisme\n",
    "# Features : [Température, Fatigue (0-10)]\n",
    "# Target : 0 = Sain, 1 = Paludisme\n",
    "\n",
    "np.random.seed(42)\n",
    "\n",
    "# Cas positifs\n",
    "X_pos = np.random.randn(50, 2) * np.array([1, 1.5]) + np.array([39.5, 8])\n",
    "y_pos = np.ones(50)\n",
    "\n",
    "# Cas négatifs\n",
    "X_neg = np.random.randn(50, 2) * np.array([0.5, 2]) + np.array([37, 3])\n",
    "y_neg = np.zeros(50)\n",
    "\n",
    "X = np.vstack([X_pos, X_neg])\n",
    "y = np.hstack([y_pos, y_neg])\n",
    "\n",
    "# Visualisation\n",
    "plt.figure(figsize=(10, 6))\n",
    "plt.scatter(X[y==0, 0], X[y==0, 1], label='Sain', alpha=0.6)\n",
    "plt.scatter(X[y==1, 0], X[y==1, 1], label='Paludisme', alpha=0.6)\n",
    "plt.xlabel('Température (°C)')\n",
    "plt.ylabel('Fatigue (0-10)')\n",
    "plt.title('Données de diagnostic')\n",
    "plt.legend()\n",
    "plt.grid(True, alpha=0.3)\n",
    "plt.show()"
   ]
  },
  {
   "cell_type": "code",
   "execution_count": null,
   "metadata": {},
   "outputs": [],
   "source": [
    "# Split et entraînement\n",
    "X_train, X_test, y_train, y_test = train_test_split(X, y, test_size=0.2, random_state=42)\n",
    "\n",
    "model_log = LogisticRegression()\n",
    "model_log.fit(X_train, y_train)\n",
    "\n",
    "# Prédictions\n",
    "y_pred = model_log.predict(X_test)\n",
    "\n",
    "# Évaluation\n",
    "accuracy = accuracy_score(y_test, y_pred)\n",
    "print(f\"Précision: {accuracy * 100:.2f}%\")"
   ]
  },
  {
   "cell_type": "markdown",
   "metadata": {},
   "source": [
    "### 🎯 Exercice 2 : Classification\n",
    "\n",
    "Classifier des SMS (spam/normal)"
   ]
  },
  {
   "cell_type": "code",
   "execution_count": null,
   "metadata": {},
   "outputs": [],
   "source": [
    "# Exercice 2 : À vous de jouer !\n",
    "\n",
    "# Features : [Longueur, Nombre de mots en majuscules]\n",
    "# Target : 0 = Normal, 1 = Spam\n",
    "\n",
    "# TODO: Créer des données et entraîner un modèle\n"
   ]
  },
  {
   "cell_type": "code",
   "execution_count": null,
   "metadata": {},
   "outputs": [],
   "source": [
    "# Solution Exercice 2\n",
    "\n",
    "# Spam : longs, beaucoup de majuscules\n",
    "X_spam = np.random.randn(40, 2) * np.array([20, 5]) + np.array([150, 15])\n",
    "y_spam = np.ones(40)\n",
    "\n",
    "# Normal : courts, peu de majuscules\n",
    "X_normal = np.random.randn(60, 2) * np.array([15, 2]) + np.array([50, 3])\n",
    "y_normal = np.zeros(60)\n",
    "\n",
    "X_sms = np.vstack([X_spam, X_normal])\n",
    "y_sms = np.hstack([y_spam, y_normal])\n",
    "\n",
    "X_train, X_test, y_train, y_test = train_test_split(X_sms, y_sms, test_size=0.2, random_state=42)\n",
    "\n",
    "model_sms = LogisticRegression()\n",
    "model_sms.fit(X_train, y_train)\n",
    "\n",
    "accuracy = accuracy_score(y_test, model_sms.predict(X_test))\n",
    "print(f\"Précision: {accuracy * 100:.2f}%\")"
   ]
  },
  {
   "cell_type": "markdown",
   "metadata": {},
   "source": [
    "---\n",
    "\n",
    "# Chapitre 4 : k-Nearest Neighbors\n",
    "\n",
    "## 4.1 Principe\n",
    "\n",
    "Classer selon les k voisins les plus proches"
   ]
  },
  {
   "cell_type": "code",
   "execution_count": null,
   "metadata": {},
   "outputs": [],
   "source": [
    "# Données : Classification de fruits\n",
    "# Features : [Longueur, Largeur]\n",
    "# Target : 0 = Banane, 1 = Mangue, 2 = Ananas\n",
    "\n",
    "np.random.seed(42)\n",
    "\n",
    "# Bananes : allongées\n",
    "X_banane = np.random.randn(30, 2) * np.array([2, 1]) + np.array([18, 4])\n",
    "y_banane = np.zeros(30)\n",
    "\n",
    "# Mangues : ovales\n",
    "X_mangue = np.random.randn(30, 2) * np.array([2, 2]) + np.array([12, 8])\n",
    "y_mangue = np.ones(30)\n",
    "\n",
    "# Ananas : gros\n",
    "X_ananas = np.random.randn(30, 2) * np.array([3, 3]) + np.array([25, 12])\n",
    "y_ananas = np.full(30, 2)\n",
    "\n",
    "X_fruits = np.vstack([X_banane, X_mangue, X_ananas])\n",
    "y_fruits = np.hstack([y_banane, y_mangue, y_ananas])\n",
    "\n",
    "# Visualisation\n",
    "plt.figure(figsize=(10, 6))\n",
    "plt.scatter(X_fruits[y_fruits==0, 0], X_fruits[y_fruits==0, 1], label='Banane', alpha=0.6)\n",
    "plt.scatter(X_fruits[y_fruits==1, 0], X_fruits[y_fruits==1, 1], label='Mangue', alpha=0.6)\n",
    "plt.scatter(X_fruits[y_fruits==2, 0], X_fruits[y_fruits==2, 1], label='Ananas', alpha=0.6)\n",
    "plt.xlabel('Longueur (cm)')\n",
    "plt.ylabel('Largeur (cm)')\n",
    "plt.title('Classification de fruits')\n",
    "plt.legend()\n",
    "plt.grid(True, alpha=0.3)\n",
    "plt.show()"
   ]
  },
  {
   "cell_type": "code",
   "execution_count": null,
   "metadata": {},
   "outputs": [],
   "source": [
    "# Entraînement kNN\n",
    "X_train, X_test, y_train, y_test = train_test_split(X_fruits, y_fruits, test_size=0.2, random_state=42)\n",
    "\n",
    "model_knn = KNeighborsClassifier(n_neighbors=5)\n",
    "model_knn.fit(X_train, y_train)\n",
    "\n",
    "accuracy = accuracy_score(y_test, model_knn.predict(X_test))\n",
    "print(f\"Précision: {accuracy * 100:.2f}%\")"
   ]
  },
  {
   "cell_type": "markdown",
   "metadata": {},
   "source": [
    "### 🎯 Exercice 3 : kNN\n",
    "\n",
    "Tester différentes valeurs de k et trouver la meilleure"
   ]
  },
  {
   "cell_type": "code",
   "execution_count": null,
   "metadata": {},
   "outputs": [],
   "source": [
    "# Exercice 3 : À vous de jouer !\n",
    "\n",
    "# TODO: Tester k = 1, 3, 5, 7, 9, 11\n",
    "# Afficher la précision pour chaque k\n"
   ]
  },
  {
   "cell_type": "code",
   "execution_count": null,
   "metadata": {},
   "outputs": [],
   "source": [
    "# Solution Exercice 3\n",
    "\n",
    "k_values = [1, 3, 5, 7, 9, 11]\n",
    "accuracies = []\n",
    "\n",
    "for k in k_values:\n",
    "    model = KNeighborsClassifier(n_neighbors=k)\n",
    "    model.fit(X_train, y_train)\n",
    "    acc = accuracy_score(y_test, model.predict(X_test))\n",
    "    accuracies.append(acc)\n",
    "    print(f\"k={k}: {acc * 100:.2f}%\")\n",
    "\n",
    "# Graphique\n",
    "plt.figure(figsize=(10, 6))\n",
    "plt.plot(k_values, accuracies, marker='o', linewidth=2, markersize=8)\n",
    "plt.xlabel('k')\n",
    "plt.ylabel('Précision')\n",
    "plt.title('Précision vs k')\n",
    "plt.grid(True, alpha=0.3)\n",
    "plt.show()\n",
    "\n",
    "best_k = k_values[np.argmax(accuracies)]\n",
    "print(f\"\\nMeilleur k: {best_k}\")"
   ]
  },
  {
   "cell_type": "markdown",
   "metadata": {},
   "source": [
    "---\n",
    "\n",
    "# Chapitre 5 : Arbres de décision et Clustering\n",
    "\n",
    "## 5.1 Arbres de décision"
   ]
  },
  {
   "cell_type": "code",
   "execution_count": null,
   "metadata": {},
   "outputs": [],
   "source": [
    "# Arbre de décision sur les fruits\n",
    "model_tree = DecisionTreeClassifier(max_depth=3, random_state=42)\n",
    "model_tree.fit(X_train, y_train)\n",
    "\n",
    "accuracy = accuracy_score(y_test, model_tree.predict(X_test))\n",
    "print(f\"Précision: {accuracy * 100:.2f}%\")"
   ]
  },
  {
   "cell_type": "markdown",
   "metadata": {},
   "source": [
    "## 5.2 Clustering (k-Means)"
   ]
  },
  {
   "cell_type": "code",
   "execution_count": null,
   "metadata": {},
   "outputs": [],
   "source": [
    "# k-Means sur les fruits (sans labels)\n",
    "kmeans = KMeans(n_clusters=3, random_state=42)\n",
    "clusters = kmeans.fit_predict(X_fruits)\n",
    "\n",
    "# Visualisation\n",
    "plt.figure(figsize=(10, 6))\n",
    "plt.scatter(X_fruits[:, 0], X_fruits[:, 1], c=clusters, cmap='viridis', alpha=0.6)\n",
    "plt.scatter(kmeans.cluster_centers_[:, 0], kmeans.cluster_centers_[:, 1], \n",
    "            marker='X', s=300, c='red', edgecolors='black', linewidths=2, label='Centres')\n",
    "plt.xlabel('Longueur (cm)')\n",
    "plt.ylabel('Largeur (cm)')\n",
    "plt.title('Clustering k-Means')\n",
    "plt.legend()\n",
    "plt.grid(True, alpha=0.3)\n",
    "plt.show()"
   ]
  },
  {
   "cell_type": "markdown",
   "metadata": {},
   "source": [
    "### 🎯 Exercice 4 : Clustering\n",
    "\n",
    "Segmenter des clients en 3 groupes"
   ]
  },
  {
   "cell_type": "code",
   "execution_count": null,
   "metadata": {},
   "outputs": [],
   "source": [
    "# Exercice 4 : À vous de jouer !\n",
    "\n",
    "# Données clients : [Revenu, Dépenses]\n",
    "np.random.seed(42)\n",
    "clients = np.random.randn(150, 2) * np.array([20000, 5000]) + np.array([50000, 15000])\n",
    "\n",
    "# TODO: Appliquer k-Means et visualiser\n"
   ]
  },
  {
   "cell_type": "code",
   "execution_count": null,
   "metadata": {},
   "outputs": [],
   "source": [
    "# Solution Exercice 4\n",
    "\n",
    "np.random.seed(42)\n",
    "clients = np.random.randn(150, 2) * np.array([20000, 5000]) + np.array([50000, 15000])\n",
    "\n",
    "kmeans_clients = KMeans(n_clusters=3, random_state=42)\n",
    "segments = kmeans_clients.fit_predict(clients)\n",
    "\n",
    "plt.figure(figsize=(10, 6))\n",
    "plt.scatter(clients[:, 0], clients[:, 1], c=segments, cmap='viridis', alpha=0.6)\n",
    "plt.scatter(kmeans_clients.cluster_centers_[:, 0], kmeans_clients.cluster_centers_[:, 1],\n",
    "            marker='X', s=300, c='red', edgecolors='black', linewidths=2)\n",
    "plt.xlabel('Revenu (FC)')\n",
    "plt.ylabel('Dépenses (FC)')\n",
    "plt.title('Segmentation clients')\n",
    "plt.grid(True, alpha=0.3)\n",
    "plt.show()\n",
    "\n",
    "print(f\"Segment 0: {np.sum(segments == 0)} clients\")\n",
    "print(f\"Segment 1: {np.sum(segments == 1)} clients\")\n",
    "print(f\"Segment 2: {np.sum(segments == 2)} clients\")"
   ]
  },
  {
   "cell_type": "markdown",
   "metadata": {},
   "source": [
    "---\n",
    "\n",
    "# Validation croisée"
   ]
  },
  {
   "cell_type": "code",
   "execution_count": null,
   "metadata": {},
   "outputs": [],
   "source": [
    "# Validation croisée sur kNN\n",
    "scores = cross_val_score(model_knn, X_fruits, y_fruits, cv=5)\n",
    "\n",
    "print(f\"Scores: {scores}\")\n",
    "print(f\"Moyenne: {scores.mean():.3f}\")\n",
    "print(f\"Écart-type: {scores.std():.3f}\")"
   ]
  },
  {
   "cell_type": "markdown",
   "metadata": {},
   "source": [
    "### 🎯 Exercice 5 : Projet complet\n",
    "\n",
    "Prédire le prix du manioc avec plusieurs modèles"
   ]
  },
  {
   "cell_type": "code",
   "execution_count": null,
   "metadata": {},
   "outputs": [],
   "source": [
    "# Exercice 5 : Projet complet\n",
    "\n",
    "# Données : Prix du manioc\n",
    "# Features : [Quantité, Saison (0-3), Pluie (mm)]\n",
    "\n",
    "np.random.seed(42)\n",
    "n = 200\n",
    "\n",
    "quantite = np.random.randint(10, 100, n)\n",
    "saison = np.random.randint(0, 4, n)\n",
    "pluie = np.random.randint(50, 200, n)\n",
    "\n",
    "# Prix = f(quantité, saison, pluie) + bruit\n",
    "prix = (quantite * 450 + saison * 2000 - pluie * 10 + np.random.randn(n) * 1000)\n",
    "\n",
    "X_manioc = np.column_stack([quantite, saison, pluie])\n",
    "y_manioc = prix\n",
    "\n",
    "# TODO:\n",
    "# 1. Split train/test\n",
    "# 2. Entraîner LinearRegression\n",
    "# 3. Évaluer avec R²\n",
    "# 4. Faire des prédictions\n",
    "# 5. Visualiser résultats\n"
   ]
  },
  {
   "cell_type": "code",
   "execution_count": null,
   "metadata": {},
   "outputs": [],
   "source": [
    "# Solution Exercice 5\n",
    "\n",
    "np.random.seed(42)\n",
    "n = 200\n",
    "\n",
    "quantite = np.random.randint(10, 100, n)\n",
    "saison = np.random.randint(0, 4, n)\n",
    "pluie = np.random.randint(50, 200, n)\n",
    "\n",
    "prix = (quantite * 450 + saison * 2000 - pluie * 10 + np.random.randn(n) * 1000)\n",
    "\n",
    "X_manioc = np.column_stack([quantite, saison, pluie])\n",
    "y_manioc = prix\n",
    "\n",
    "# 1. Split\n",
    "X_train, X_test, y_train, y_test = train_test_split(X_manioc, y_manioc, test_size=0.2, random_state=42)\n",
    "\n",
    "# 2. Entraînement\n",
    "model_manioc = LinearRegression()\n",
    "model_manioc.fit(X_train, y_train)\n",
    "\n",
    "# 3. Évaluation\n",
    "y_pred = model_manioc.predict(X_test)\n",
    "r2 = r2_score(y_test, y_pred)\n",
    "mse = mean_squared_error(y_test, y_pred)\n",
    "\n",
    "print(f\"R²: {r2:.3f}\")\n",
    "print(f\"MSE: {mse:.2f}\")\n",
    "\n",
    "# 4. Prédiction exemple\n",
    "nouveau = np.array([[50, 2, 100]])  # 50kg, saison 2, 100mm pluie\n",
    "prix_predit = model_manioc.predict(nouveau)\n",
    "print(f\"\\nPrix prédit pour 50kg: {prix_predit[0]:.2f} FC\")\n",
    "\n",
    "# 5. Visualisation\n",
    "plt.figure(figsize=(10, 6))\n",
    "plt.scatter(y_test, y_pred, alpha=0.6)\n",
    "plt.plot([y_test.min(), y_test.max()], [y_test.min(), y_test.max()], 'r--', linewidth=2)\n",
    "plt.xlabel('Prix réel (FC)')\n",
    "plt.ylabel('Prix prédit (FC)')\n",
    "plt.title(f'Prédiction du prix du manioc (R²={r2:.3f})')\n",
    "plt.grid(True, alpha=0.3)\n",
    "plt.show()"
   ]
  },
  {
   "cell_type": "markdown",
   "metadata": {},
   "source": [
    "---\n",
    "\n",
    "## 🎓 Résumé\n",
    "\n",
    "### Compétences acquises\n",
    "\n",
    "- ✅ Régression linéaire\n",
    "- ✅ Régression logistique\n",
    "- ✅ k-Nearest Neighbors\n",
    "- ✅ Arbres de décision\n",
    "- ✅ Clustering (k-Means)\n",
    "- ✅ Train/Test split\n",
    "- ✅ Validation croisée\n",
    "- ✅ Métriques d'évaluation\n",
    "\n",
    "**Félicitations ! Module ML Fondamental terminé ! 🎉**"
   ]
  }
 ],
 "metadata": {
  "kernelspec": {
   "display_name": "Python 3",
   "language": "python",
   "name": "python3"
  },
  "language_info": {
   "name": "python",
   "version": "3.8.0"
  }
 },
 "nbformat": 4,
 "nbformat_minor": 4
}
